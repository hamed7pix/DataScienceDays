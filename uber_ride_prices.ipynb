{
  "metadata": {
    "kernelspec": {
      "language": "python",
      "display_name": "Python 3",
      "name": "python3"
    },
    "language_info": {
      "pygments_lexer": "ipython3",
      "nbconvert_exporter": "python",
      "version": "3.6.4",
      "file_extension": ".py",
      "codemirror_mode": {
        "name": "ipython",
        "version": 3
      },
      "name": "python",
      "mimetype": "text/x-python"
    },
    "colab": {
      "provenance": []
    }
  },
  "nbformat_minor": 0,
  "nbformat": 4,
  "cells": [
    {
      "cell_type": "markdown",
      "source": [
        "<a href=\"https://colab.research.google.com/github/ravi72munde/scala-spark-cab-rides-predictions/blob/Ravi/Cab_Price_Prediction.ipynb\" target=\"_parent\"><img src=\"https://colab.research.google.com/assets/colab-badge.svg\" alt=\"Open In Colab\"/></a>"
      ],
      "metadata": {
        "id": "view-in-github"
      }
    },
    {
      "cell_type": "markdown",
      "source": [
        "**Uber ride prices**:\n",
        "\n",
        "**Hamed Tabrizchi**\n",
        "\n"
      ],
      "metadata": {
        "id": "w-twoCCatrzn"
      }
    },
    {
      "cell_type": "markdown",
      "source": [
        "The purpose of this project is to investigate the relationship between cab fares and the weather. The datasets used in this study were taken from Kaggle. A price prediction model will also be developed by training and testing data."
      ],
      "metadata": {
        "id": "agUypjgPu2aC"
      }
    },
    {
      "cell_type": "markdown",
      "source": [
        "Unlike public transportation, Uber ride prices fluctuate. The demand and supply of rides at any one time have a significant impact on them. We'd like to learn more about what drives demand for rides and how pricing change with time and weather in this data science study.Understanding the elements that determine the pricing of a cab is the main goal of this study, to forecast trip costs based on these variables (Distance, Cab type, Timestamp, Destination, Source, Price estimate, \n",
        "Temperature, Location, Clouds, Pressure, Timestamp,Humidity, and Wind)."
      ],
      "metadata": {
        "id": "s0sIrgmztrzp"
      }
    },
    {
      "cell_type": "markdown",
      "source": [
        "* **DATA**\n",
        "\n",
        "In this project, two data sets are considered. One of the data sets was collected according to the vehicles and the other according to the weather conditions. In the following, we will examine each dataset separately.\n",
        "\n",
        "The dataset for this project has been taken from Kaggle. The dataset can be viewed or downloaded by visiting the following link: https://www.kaggle.com/datasets/ravi72munde/uber-lyft-cab-prices"
      ],
      "metadata": {
        "id": "BxumU3uDtrzq"
      }
    },
    {
      "cell_type": "code",
      "source": [
        "import pandas as pd"
      ],
      "metadata": {
        "id": "D8MbqoPg8FNG",
        "execution": {
          "iopub.status.busy": "2022-01-11T08:43:46.127610Z",
          "iopub.execute_input": "2022-01-11T08:43:46.127940Z",
          "iopub.status.idle": "2022-01-11T08:43:46.135555Z",
          "shell.execute_reply.started": "2022-01-11T08:43:46.127879Z",
          "shell.execute_reply": "2022-01-11T08:43:46.134280Z"
        },
        "trusted": true
      },
      "execution_count": null,
      "outputs": []
    },
    {
      "cell_type": "code",
      "source": [
        "cab_df = pd.read_csv(\"../input/cab_rides.csv\")\n",
        "weather_df = pd.read_csv(\"../input/weather.csv\")"
      ],
      "metadata": {
        "id": "kXDbdsLr91ft",
        "execution": {
          "iopub.status.busy": "2022-01-11T08:43:46.142374Z",
          "iopub.execute_input": "2022-01-11T08:43:46.142905Z",
          "iopub.status.idle": "2022-01-11T08:43:48.661072Z",
          "shell.execute_reply.started": "2022-01-11T08:43:46.142838Z",
          "shell.execute_reply": "2022-01-11T08:43:48.660170Z"
        },
        "trusted": true
      },
      "execution_count": null,
      "outputs": []
    },
    {
      "cell_type": "code",
      "source": [
        "cab_df.head()"
      ],
      "metadata": {
        "execution": {
          "iopub.status.busy": "2022-01-11T08:43:48.665245Z",
          "iopub.execute_input": "2022-01-11T08:43:48.665516Z",
          "iopub.status.idle": "2022-01-11T08:43:48.716669Z",
          "shell.execute_reply.started": "2022-01-11T08:43:48.665455Z",
          "shell.execute_reply": "2022-01-11T08:43:48.715815Z"
        },
        "trusted": true,
        "id": "bgYMYs0Atrzr"
      },
      "execution_count": null,
      "outputs": []
    },
    {
      "cell_type": "code",
      "source": [
        "weather_df.head()"
      ],
      "metadata": {
        "execution": {
          "iopub.status.busy": "2022-01-11T08:43:48.720417Z",
          "iopub.execute_input": "2022-01-11T08:43:48.720679Z",
          "iopub.status.idle": "2022-01-11T08:43:48.753194Z",
          "shell.execute_reply.started": "2022-01-11T08:43:48.720618Z",
          "shell.execute_reply": "2022-01-11T08:43:48.751972Z"
        },
        "trusted": true,
        "id": "5d3sj-Bqtrzs"
      },
      "execution_count": null,
      "outputs": []
    },
    {
      "cell_type": "code",
      "source": [
        "cab_df.describe()"
      ],
      "metadata": {
        "execution": {
          "iopub.status.busy": "2022-01-11T08:43:48.754973Z",
          "iopub.execute_input": "2022-01-11T08:43:48.755306Z",
          "iopub.status.idle": "2022-01-11T08:43:48.942622Z",
          "shell.execute_reply.started": "2022-01-11T08:43:48.755248Z",
          "shell.execute_reply": "2022-01-11T08:43:48.941549Z"
        },
        "trusted": true,
        "id": "VFqWqkVFtrzs"
      },
      "execution_count": null,
      "outputs": []
    },
    {
      "cell_type": "code",
      "source": [
        "weather_df.describe()"
      ],
      "metadata": {
        "execution": {
          "iopub.status.busy": "2021-12-16T14:32:30.607553Z",
          "iopub.execute_input": "2021-12-16T14:32:30.607826Z",
          "iopub.status.idle": "2021-12-16T14:32:30.647854Z",
          "shell.execute_reply.started": "2021-12-16T14:32:30.60778Z",
          "shell.execute_reply": "2021-12-16T14:32:30.647003Z"
        },
        "trusted": true,
        "id": "yDLSTjp_trzt"
      },
      "execution_count": null,
      "outputs": []
    },
    {
      "cell_type": "code",
      "source": [
        "cab_df.corr()"
      ],
      "metadata": {
        "execution": {
          "iopub.status.busy": "2021-12-16T14:32:30.649372Z",
          "iopub.execute_input": "2021-12-16T14:32:30.649887Z",
          "iopub.status.idle": "2021-12-16T14:32:30.708951Z",
          "shell.execute_reply.started": "2021-12-16T14:32:30.649612Z",
          "shell.execute_reply": "2021-12-16T14:32:30.708212Z"
        },
        "trusted": true,
        "id": "arsu39T_trzt"
      },
      "execution_count": null,
      "outputs": []
    },
    {
      "cell_type": "code",
      "source": [
        "weather_df.corr()"
      ],
      "metadata": {
        "execution": {
          "iopub.status.busy": "2021-12-16T14:32:31.029368Z",
          "iopub.execute_input": "2021-12-16T14:32:31.029664Z",
          "iopub.status.idle": "2021-12-16T14:32:31.053247Z",
          "shell.execute_reply.started": "2021-12-16T14:32:31.029589Z",
          "shell.execute_reply": "2021-12-16T14:32:31.052321Z"
        },
        "trusted": true,
        "id": "m3PtYobxtrzu"
      },
      "execution_count": null,
      "outputs": []
    },
    {
      "cell_type": "code",
      "source": [
        "pd.plotting.scatter_matrix(weather_df, alpha=0.2)"
      ],
      "metadata": {
        "execution": {
          "iopub.status.busy": "2021-12-16T14:32:31.361151Z",
          "iopub.execute_input": "2021-12-16T14:32:31.361411Z",
          "iopub.status.idle": "2021-12-16T14:32:40.124948Z",
          "shell.execute_reply.started": "2021-12-16T14:32:31.361363Z",
          "shell.execute_reply": "2021-12-16T14:32:40.124107Z"
        },
        "trusted": true,
        "id": "XqOvTMD_trzu"
      },
      "execution_count": null,
      "outputs": []
    },
    {
      "cell_type": "code",
      "source": [
        "pd.plotting.scatter_matrix(cab_df, alpha=0.2)"
      ],
      "metadata": {
        "execution": {
          "iopub.status.busy": "2021-12-16T14:32:40.125948Z",
          "iopub.execute_input": "2021-12-16T14:32:40.126239Z",
          "iopub.status.idle": "2021-12-16T14:35:41.29618Z",
          "shell.execute_reply.started": "2021-12-16T14:32:40.126156Z",
          "shell.execute_reply": "2021-12-16T14:35:41.295463Z"
        },
        "trusted": true,
        "id": "vTHnx6Rktrzu"
      },
      "execution_count": null,
      "outputs": []
    },
    {
      "cell_type": "markdown",
      "source": [
        "**Describing data set**"
      ],
      "metadata": {
        "id": "7LbbeeuYtrzu"
      }
    },
    {
      "cell_type": "code",
      "source": [
        "print('Weather Data set size = ', weather_df.shape)\n",
        "print('Weather Data set Dimension = ', weather_df.ndim)\n",
        "print('*================================*')\n",
        "print('Cab Data set size = ', cab_df.shape)\n",
        "print('Cab Data set Dimension = ', cab_df.ndim)"
      ],
      "metadata": {
        "execution": {
          "iopub.status.busy": "2022-01-11T08:45:58.863633Z",
          "iopub.execute_input": "2022-01-11T08:45:58.863972Z",
          "iopub.status.idle": "2022-01-11T08:45:58.873239Z",
          "shell.execute_reply.started": "2022-01-11T08:45:58.863914Z",
          "shell.execute_reply": "2022-01-11T08:45:58.872009Z"
        },
        "trusted": true,
        "id": "L_BebxBCtrzv"
      },
      "execution_count": null,
      "outputs": []
    },
    {
      "cell_type": "code",
      "source": [
        "print('Weather Data set types -> ')\n",
        "weather_df.dtypes"
      ],
      "metadata": {
        "execution": {
          "iopub.status.busy": "2022-01-11T08:46:43.499324Z",
          "iopub.execute_input": "2022-01-11T08:46:43.499643Z",
          "iopub.status.idle": "2022-01-11T08:46:43.512550Z",
          "shell.execute_reply.started": "2022-01-11T08:46:43.499581Z",
          "shell.execute_reply": "2022-01-11T08:46:43.511253Z"
        },
        "trusted": true,
        "id": "DEia6-mBtrzv"
      },
      "execution_count": null,
      "outputs": []
    },
    {
      "cell_type": "code",
      "source": [
        "print('Cab Data set types -> ')\n",
        "cab_df.dtypes"
      ],
      "metadata": {
        "execution": {
          "iopub.status.busy": "2022-01-11T08:46:58.376243Z",
          "iopub.execute_input": "2022-01-11T08:46:58.376684Z",
          "iopub.status.idle": "2022-01-11T08:46:58.386240Z",
          "shell.execute_reply.started": "2022-01-11T08:46:58.376606Z",
          "shell.execute_reply": "2022-01-11T08:46:58.384915Z"
        },
        "trusted": true,
        "id": "LcX5woRPtrzv"
      },
      "execution_count": null,
      "outputs": []
    },
    {
      "cell_type": "markdown",
      "source": [
        "* **Combining two data sets**\n",
        "\n",
        "In this section, to provide a more complete data set with more features, we try to merge the two data sets. In order for this operation to be performed correctly, a linear relationship between the properties will be evaluated after combination."
      ],
      "metadata": {
        "id": "ks_QrfOHtrzv"
      }
    },
    {
      "cell_type": "code",
      "source": [
        "cab_df['date_time'] = pd.to_datetime(cab_df['time_stamp']/1000, unit='s')\n",
        "weather_df['date_time'] = pd.to_datetime(weather_df['time_stamp'], unit='s')\n",
        "cab_df.head()"
      ],
      "metadata": {
        "id": "Hthonxgy92dv",
        "execution": {
          "iopub.status.busy": "2022-01-11T08:51:58.871221Z",
          "iopub.execute_input": "2022-01-11T08:51:58.871595Z",
          "iopub.status.idle": "2022-01-11T08:52:06.757495Z",
          "shell.execute_reply.started": "2022-01-11T08:51:58.871534Z",
          "shell.execute_reply": "2022-01-11T08:52:06.756368Z"
        },
        "trusted": true
      },
      "execution_count": null,
      "outputs": []
    },
    {
      "cell_type": "code",
      "source": [
        "#merge the datasets to refelect same time for a location\n",
        "cab_df['merge_date'] = cab_df.source.astype(str) +\" - \"+ cab_df.date_time.dt.date.astype(\"str\") +\" - \"+ cab_df.date_time.dt.hour.astype(\"str\")\n",
        "weather_df['merge_date'] = weather_df.location.astype(str) +\" - \"+ weather_df.date_time.dt.date.astype(\"str\") +\" - \"+ weather_df.date_time.dt.hour.astype(\"str\")"
      ],
      "metadata": {
        "id": "yVA22Tow93tS",
        "execution": {
          "iopub.status.busy": "2022-01-11T08:52:06.759334Z",
          "iopub.execute_input": "2022-01-11T08:52:06.760028Z",
          "iopub.status.idle": "2022-01-11T08:52:08.922987Z",
          "shell.execute_reply.started": "2022-01-11T08:52:06.759628Z",
          "shell.execute_reply": "2022-01-11T08:52:08.921963Z"
        },
        "trusted": true
      },
      "execution_count": null,
      "outputs": []
    },
    {
      "cell_type": "code",
      "source": [
        "weather_df.index = weather_df['merge_date']"
      ],
      "metadata": {
        "id": "KqZ4F2Ip-Ddm",
        "execution": {
          "iopub.status.busy": "2022-01-11T08:52:08.924643Z",
          "iopub.execute_input": "2022-01-11T08:52:08.925271Z",
          "iopub.status.idle": "2022-01-11T08:52:08.931887Z",
          "shell.execute_reply.started": "2022-01-11T08:52:08.925088Z",
          "shell.execute_reply": "2022-01-11T08:52:08.930329Z"
        },
        "trusted": true
      },
      "execution_count": null,
      "outputs": []
    },
    {
      "cell_type": "code",
      "source": [
        "cab_df.head()"
      ],
      "metadata": {
        "id": "sB9F2_-q-D4j",
        "execution": {
          "iopub.status.busy": "2022-01-11T08:52:08.934015Z",
          "iopub.execute_input": "2022-01-11T08:52:08.934818Z",
          "iopub.status.idle": "2022-01-11T08:52:08.983605Z",
          "shell.execute_reply.started": "2022-01-11T08:52:08.934553Z",
          "shell.execute_reply": "2022-01-11T08:52:08.982267Z"
        },
        "trusted": true
      },
      "execution_count": null,
      "outputs": []
    },
    {
      "cell_type": "code",
      "source": [
        "merged_df = cab_df.join(weather_df,on=['merge_date'],rsuffix ='_w')"
      ],
      "metadata": {
        "id": "sd0VrZr3-E_8",
        "execution": {
          "iopub.status.busy": "2022-01-11T08:52:08.985425Z",
          "iopub.execute_input": "2022-01-11T08:52:08.986108Z",
          "iopub.status.idle": "2022-01-11T08:52:10.349304Z",
          "shell.execute_reply.started": "2022-01-11T08:52:08.986022Z",
          "shell.execute_reply": "2022-01-11T08:52:10.347920Z"
        },
        "trusted": true
      },
      "execution_count": null,
      "outputs": []
    },
    {
      "cell_type": "code",
      "source": [
        "merged_df['rain'].fillna(0,inplace=True)"
      ],
      "metadata": {
        "id": "7wSBr30X-HRZ",
        "execution": {
          "iopub.status.busy": "2022-01-11T08:52:10.355188Z",
          "iopub.execute_input": "2022-01-11T08:52:10.355914Z",
          "iopub.status.idle": "2022-01-11T08:52:10.386192Z",
          "shell.execute_reply.started": "2022-01-11T08:52:10.355506Z",
          "shell.execute_reply": "2022-01-11T08:52:10.377939Z"
        },
        "trusted": true
      },
      "execution_count": null,
      "outputs": []
    },
    {
      "cell_type": "code",
      "source": [
        "merged_df = merged_df[pd.notnull(merged_df['date_time_w'])]"
      ],
      "metadata": {
        "id": "Fu53tQiC-ISF",
        "execution": {
          "iopub.status.busy": "2022-01-11T08:52:10.394098Z",
          "iopub.execute_input": "2022-01-11T08:52:10.400143Z",
          "iopub.status.idle": "2022-01-11T08:52:11.508645Z",
          "shell.execute_reply.started": "2022-01-11T08:52:10.394407Z",
          "shell.execute_reply": "2022-01-11T08:52:11.507451Z"
        },
        "trusted": true
      },
      "execution_count": null,
      "outputs": []
    },
    {
      "cell_type": "code",
      "source": [
        "merged_df = merged_df[pd.notnull(merged_df['price'])]"
      ],
      "metadata": {
        "id": "nXpNbtSe-LX4",
        "execution": {
          "iopub.status.busy": "2022-01-11T08:52:11.510235Z",
          "iopub.execute_input": "2022-01-11T08:52:11.510552Z",
          "iopub.status.idle": "2022-01-11T08:52:11.769593Z",
          "shell.execute_reply.started": "2022-01-11T08:52:11.510494Z",
          "shell.execute_reply": "2022-01-11T08:52:11.768524Z"
        },
        "trusted": true
      },
      "execution_count": null,
      "outputs": []
    },
    {
      "cell_type": "code",
      "source": [
        "merged_df['day'] = merged_df.date_time.dt.dayofweek"
      ],
      "metadata": {
        "id": "uMH-PD_k-MhS",
        "execution": {
          "iopub.status.busy": "2022-01-11T08:52:11.771242Z",
          "iopub.execute_input": "2022-01-11T08:52:11.771865Z",
          "iopub.status.idle": "2022-01-11T08:52:11.872373Z",
          "shell.execute_reply.started": "2022-01-11T08:52:11.771649Z",
          "shell.execute_reply": "2022-01-11T08:52:11.871508Z"
        },
        "trusted": true
      },
      "execution_count": null,
      "outputs": []
    },
    {
      "cell_type": "code",
      "source": [
        "merged_df['hour'] = merged_df.date_time.dt.hour"
      ],
      "metadata": {
        "id": "AF86jDYF-5Nr",
        "execution": {
          "iopub.status.busy": "2022-01-11T08:52:11.873942Z",
          "iopub.execute_input": "2022-01-11T08:52:11.874718Z",
          "iopub.status.idle": "2022-01-11T08:52:11.929816Z",
          "shell.execute_reply.started": "2022-01-11T08:52:11.874521Z",
          "shell.execute_reply": "2022-01-11T08:52:11.928900Z"
        },
        "trusted": true
      },
      "execution_count": null,
      "outputs": []
    },
    {
      "cell_type": "code",
      "source": [
        "merged_df.columns"
      ],
      "metadata": {
        "id": "aosPlqKZ-c93",
        "execution": {
          "iopub.status.busy": "2022-01-11T08:52:11.931496Z",
          "iopub.execute_input": "2022-01-11T08:52:11.933194Z",
          "iopub.status.idle": "2022-01-11T08:52:11.941737Z",
          "shell.execute_reply.started": "2022-01-11T08:52:11.931988Z",
          "shell.execute_reply": "2022-01-11T08:52:11.940568Z"
        },
        "trusted": true
      },
      "execution_count": null,
      "outputs": []
    },
    {
      "cell_type": "code",
      "source": [
        "merged_df.count()"
      ],
      "metadata": {
        "id": "DVvty2sN_3kR",
        "execution": {
          "iopub.status.busy": "2022-01-11T08:52:11.943699Z",
          "iopub.execute_input": "2022-01-11T08:52:11.944450Z",
          "iopub.status.idle": "2022-01-11T08:52:13.280512Z",
          "shell.execute_reply.started": "2022-01-11T08:52:11.944385Z",
          "shell.execute_reply": "2022-01-11T08:52:13.279203Z"
        },
        "trusted": true
      },
      "execution_count": null,
      "outputs": []
    },
    {
      "cell_type": "code",
      "source": [
        "merged_df.head()"
      ],
      "metadata": {
        "execution": {
          "iopub.status.busy": "2022-01-11T08:52:13.282169Z",
          "iopub.execute_input": "2022-01-11T08:52:13.282741Z",
          "iopub.status.idle": "2022-01-11T08:52:13.353260Z",
          "shell.execute_reply.started": "2022-01-11T08:52:13.282666Z",
          "shell.execute_reply": "2022-01-11T08:52:13.352390Z"
        },
        "trusted": true,
        "id": "68YIth0Gtrzz"
      },
      "execution_count": null,
      "outputs": []
    },
    {
      "cell_type": "code",
      "source": [
        "merged_df.corr()"
      ],
      "metadata": {
        "execution": {
          "iopub.status.busy": "2022-01-11T08:52:13.355296Z",
          "iopub.execute_input": "2022-01-11T08:52:13.355906Z",
          "iopub.status.idle": "2022-01-11T08:52:13.926172Z",
          "shell.execute_reply.started": "2022-01-11T08:52:13.355613Z",
          "shell.execute_reply": "2022-01-11T08:52:13.925278Z"
        },
        "trusted": true,
        "id": "uyUq_Ek6trzz"
      },
      "execution_count": null,
      "outputs": []
    },
    {
      "cell_type": "markdown",
      "source": [
        "**Identifying independent and dependent variables**"
      ],
      "metadata": {
        "id": "6p_NxnK7trzz"
      }
    },
    {
      "cell_type": "markdown",
      "source": [
        "As mentioned, after merging the two datasets, the linear relationship between the features was examined to ensure the accuracy of integration of the two datasets."
      ],
      "metadata": {
        "id": "BKWa8T4Etrzz"
      }
    },
    {
      "cell_type": "code",
      "source": [
        "import matplotlib.pyplot as plt\n",
        "import seaborn as sns\n",
        "\n",
        "plt.figure(figsize=(15, 10))\n",
        "sns.heatmap(merged_df.corr(), annot=True)"
      ],
      "metadata": {
        "execution": {
          "iopub.status.busy": "2022-01-11T08:52:13.927603Z",
          "iopub.execute_input": "2022-01-11T08:52:13.927980Z",
          "iopub.status.idle": "2022-01-11T08:52:17.758180Z",
          "shell.execute_reply.started": "2022-01-11T08:52:13.927905Z",
          "shell.execute_reply": "2022-01-11T08:52:17.756970Z"
        },
        "trusted": true,
        "id": "qBL0AVOotrzz"
      },
      "execution_count": null,
      "outputs": []
    },
    {
      "cell_type": "code",
      "source": [
        "#Check for possible null values in the current data set\n",
        "merged_df.info()"
      ],
      "metadata": {
        "execution": {
          "iopub.status.busy": "2022-01-11T08:52:17.759600Z",
          "iopub.execute_input": "2022-01-11T08:52:17.759960Z",
          "iopub.status.idle": "2022-01-11T08:52:19.098041Z",
          "shell.execute_reply.started": "2022-01-11T08:52:17.759899Z",
          "shell.execute_reply": "2022-01-11T08:52:19.097065Z"
        },
        "trusted": true,
        "id": "isIOEAJ3trz0"
      },
      "execution_count": null,
      "outputs": []
    },
    {
      "cell_type": "code",
      "source": [
        "plt.figure(figsize=(12, 10))\n",
        "plt.plot(merged_df['distance'], merged_df['price'], 'ro')\n",
        "plt.title('distance vs price')\n",
        "plt.xlabel(\"distance\")\n",
        "plt.ylabel(\"price\")"
      ],
      "metadata": {
        "execution": {
          "iopub.status.busy": "2022-01-11T09:10:41.755120Z",
          "iopub.execute_input": "2022-01-11T09:10:41.755563Z",
          "iopub.status.idle": "2022-01-11T09:10:48.879316Z",
          "shell.execute_reply.started": "2022-01-11T09:10:41.755496Z",
          "shell.execute_reply": "2022-01-11T09:10:48.878323Z"
        },
        "trusted": true,
        "id": "jVwaM_-itrz0"
      },
      "execution_count": null,
      "outputs": []
    },
    {
      "cell_type": "code",
      "source": [
        "plt.figure(figsize=(12, 10))\n",
        "plt.plot(merged_df['rain'], merged_df['price'], 'b^')\n",
        "plt.title('rain vs price')\n",
        "plt.xlabel(\"rain\")\n",
        "plt.ylabel(\"price\")"
      ],
      "metadata": {
        "execution": {
          "iopub.status.busy": "2022-01-11T09:10:35.416980Z",
          "iopub.execute_input": "2022-01-11T09:10:35.417333Z",
          "iopub.status.idle": "2022-01-11T09:10:41.751613Z",
          "shell.execute_reply.started": "2022-01-11T09:10:35.417272Z",
          "shell.execute_reply": "2022-01-11T09:10:41.750304Z"
        },
        "trusted": true,
        "id": "7ZL4GQzptrz0"
      },
      "execution_count": null,
      "outputs": []
    },
    {
      "cell_type": "code",
      "source": [
        "plt.figure(figsize=(12, 10))\n",
        "plt.plot(merged_df['surge_multiplier'], merged_df['price'], 'ks')\n",
        "plt.title('surge_multiplier vs price')\n",
        "plt.xlabel(\"surge_multiplier\")\n",
        "plt.ylabel(\"price\")"
      ],
      "metadata": {
        "execution": {
          "iopub.status.busy": "2022-01-11T09:12:33.429117Z",
          "iopub.execute_input": "2022-01-11T09:12:33.429511Z",
          "iopub.status.idle": "2022-01-11T09:12:39.310710Z",
          "shell.execute_reply.started": "2022-01-11T09:12:33.429436Z",
          "shell.execute_reply": "2022-01-11T09:12:39.309308Z"
        },
        "trusted": true,
        "id": "NdgcAka0trz0"
      },
      "execution_count": null,
      "outputs": []
    },
    {
      "cell_type": "code",
      "source": [
        "merged_df.product_id.unique()"
      ],
      "metadata": {
        "execution": {
          "iopub.status.busy": "2022-01-11T08:52:19.099618Z",
          "iopub.execute_input": "2022-01-11T08:52:19.099939Z",
          "iopub.status.idle": "2022-01-11T08:52:19.190678Z",
          "shell.execute_reply.started": "2022-01-11T08:52:19.099882Z",
          "shell.execute_reply": "2022-01-11T08:52:19.189273Z"
        },
        "trusted": true,
        "id": "5JSOUq5otrz0"
      },
      "execution_count": null,
      "outputs": []
    },
    {
      "cell_type": "markdown",
      "source": [
        "As you can see above, various services are provided for transportation(*lyft_line, lyft_premier, lyft_luxsuv, lyft_plus,lyft_lux, and lyft*), and we intend to provide a forecasting model specifically for one of the services (*lyft_line*) in order to improve the accuracy of the final decision. This operation can be done for any of the services and it is enough to change the desired service before starting the model learning process."
      ],
      "metadata": {
        "id": "h-DKTgxqtrz1"
      }
    },
    {
      "cell_type": "code",
      "source": [
        "X = merged_df[merged_df.product_id=='lyft_line'][['day','distance','hour','temp','clouds', 'pressure','humidity', 'wind', 'rain']]"
      ],
      "metadata": {
        "id": "qYde3J9z-0pF",
        "execution": {
          "iopub.status.busy": "2022-01-11T08:52:19.192662Z",
          "iopub.execute_input": "2022-01-11T08:52:19.193303Z",
          "iopub.status.idle": "2022-01-11T08:52:19.450398Z",
          "shell.execute_reply.started": "2022-01-11T08:52:19.192963Z",
          "shell.execute_reply": "2022-01-11T08:52:19.449470Z"
        },
        "trusted": true
      },
      "execution_count": null,
      "outputs": []
    },
    {
      "cell_type": "code",
      "source": [
        "X.count()"
      ],
      "metadata": {
        "id": "1lFCZYGoAez5",
        "execution": {
          "iopub.status.busy": "2022-01-11T08:52:19.452077Z",
          "iopub.execute_input": "2022-01-11T08:52:19.452789Z",
          "iopub.status.idle": "2022-01-11T08:52:19.480125Z",
          "shell.execute_reply.started": "2022-01-11T08:52:19.452447Z",
          "shell.execute_reply": "2022-01-11T08:52:19.478123Z"
        },
        "trusted": true
      },
      "execution_count": null,
      "outputs": []
    },
    {
      "cell_type": "code",
      "source": [
        "y = merged_df[merged_df.product_id=='lyft_line']['price'] "
      ],
      "metadata": {
        "id": "3jwsqfWn-NkZ",
        "execution": {
          "iopub.status.busy": "2022-01-11T08:52:19.481738Z",
          "iopub.execute_input": "2022-01-11T08:52:19.482253Z",
          "iopub.status.idle": "2022-01-11T08:52:19.726303Z",
          "shell.execute_reply.started": "2022-01-11T08:52:19.482130Z",
          "shell.execute_reply": "2022-01-11T08:52:19.725261Z"
        },
        "trusted": true
      },
      "execution_count": null,
      "outputs": []
    },
    {
      "cell_type": "code",
      "source": [
        "y.count()"
      ],
      "metadata": {
        "id": "uYyi_4aUBHlT",
        "execution": {
          "iopub.status.busy": "2022-01-11T08:52:19.727990Z",
          "iopub.execute_input": "2022-01-11T08:52:19.728577Z",
          "iopub.status.idle": "2022-01-11T08:52:19.736069Z",
          "shell.execute_reply.started": "2022-01-11T08:52:19.728306Z",
          "shell.execute_reply": "2022-01-11T08:52:19.735059Z"
        },
        "trusted": true
      },
      "execution_count": null,
      "outputs": []
    },
    {
      "cell_type": "code",
      "source": [
        "X.reset_index(inplace=True)\n",
        "X = X.drop(columns=['index'])"
      ],
      "metadata": {
        "id": "dHkdZAZP-2Kz",
        "execution": {
          "iopub.status.busy": "2022-01-11T08:52:19.737713Z",
          "iopub.execute_input": "2022-01-11T08:52:19.738306Z",
          "iopub.status.idle": "2022-01-11T08:52:19.752341Z",
          "shell.execute_reply.started": "2022-01-11T08:52:19.738238Z",
          "shell.execute_reply": "2022-01-11T08:52:19.751507Z"
        },
        "trusted": true
      },
      "execution_count": null,
      "outputs": []
    },
    {
      "cell_type": "code",
      "source": [
        "X.head()"
      ],
      "metadata": {
        "id": "XuXmWXBZ-9lf",
        "execution": {
          "iopub.status.busy": "2022-01-11T08:52:19.754256Z",
          "iopub.execute_input": "2022-01-11T08:52:19.754809Z",
          "iopub.status.idle": "2022-01-11T08:52:19.786541Z",
          "shell.execute_reply.started": "2022-01-11T08:52:19.754749Z",
          "shell.execute_reply": "2022-01-11T08:52:19.785500Z"
        },
        "trusted": true
      },
      "execution_count": null,
      "outputs": []
    },
    {
      "cell_type": "code",
      "source": [
        "#To convert categorical data into dummy or indicator variables, we can use get_dummies method.\n",
        "features = pd.get_dummies(X)"
      ],
      "metadata": {
        "id": "BLewUmR_-_Wy",
        "execution": {
          "iopub.status.busy": "2022-01-11T08:52:19.788278Z",
          "iopub.execute_input": "2022-01-11T08:52:19.788893Z",
          "iopub.status.idle": "2022-01-11T08:52:19.808131Z",
          "shell.execute_reply.started": "2022-01-11T08:52:19.788833Z",
          "shell.execute_reply": "2022-01-11T08:52:19.807249Z"
        },
        "trusted": true
      },
      "execution_count": null,
      "outputs": []
    },
    {
      "cell_type": "code",
      "source": [
        "features.columns"
      ],
      "metadata": {
        "id": "QtG02FhT_BXo",
        "execution": {
          "iopub.status.busy": "2022-01-11T08:52:19.812136Z",
          "iopub.execute_input": "2022-01-11T08:52:19.812463Z",
          "iopub.status.idle": "2022-01-11T08:52:19.819749Z",
          "shell.execute_reply.started": "2022-01-11T08:52:19.812404Z",
          "shell.execute_reply": "2022-01-11T08:52:19.818453Z"
        },
        "trusted": true
      },
      "execution_count": null,
      "outputs": []
    },
    {
      "cell_type": "code",
      "source": [
        "# Use numpy to convert to arrays\n",
        "import numpy as np\n",
        "# Labels are the values we want to predict\n",
        "labels = np.array(y)\n",
        "\n",
        "# Saving feature names for later use\n",
        "feature_list = list(features.columns)\n",
        "# Convert to numpy array\n",
        "features = np.array(features)"
      ],
      "metadata": {
        "id": "MjK4mBw8_DF8",
        "execution": {
          "iopub.status.busy": "2022-01-11T08:52:19.821687Z",
          "iopub.execute_input": "2022-01-11T08:52:19.822518Z",
          "iopub.status.idle": "2022-01-11T08:52:19.836738Z",
          "shell.execute_reply.started": "2022-01-11T08:52:19.822406Z",
          "shell.execute_reply": "2022-01-11T08:52:19.835851Z"
        },
        "trusted": true
      },
      "execution_count": null,
      "outputs": []
    },
    {
      "cell_type": "code",
      "source": [
        "# Using Skicit-learn to split data into training and testing sets\n",
        "from sklearn.model_selection import train_test_split\n",
        "# Split the data into training and testing sets\n",
        "train_features, test_features, train_labels, test_labels = train_test_split(features, labels, test_size = 0.25, random_state = 42)"
      ],
      "metadata": {
        "id": "BbxSbiey_Eov",
        "execution": {
          "iopub.status.busy": "2022-01-11T08:52:19.838645Z",
          "iopub.execute_input": "2022-01-11T08:52:19.839333Z",
          "iopub.status.idle": "2022-01-11T08:52:20.145074Z",
          "shell.execute_reply.started": "2022-01-11T08:52:19.839241Z",
          "shell.execute_reply": "2022-01-11T08:52:20.144189Z"
        },
        "trusted": true
      },
      "execution_count": null,
      "outputs": []
    },
    {
      "cell_type": "code",
      "source": [
        "print('Training Features Shape:', train_features.shape)\n",
        "print('Training Labels Shape:', train_labels.shape)\n",
        "print('Testing Features Shape:', test_features.shape)\n",
        "print('Testing Labels Shape:', test_labels.shape)"
      ],
      "metadata": {
        "id": "qmTQGdxy_GWl",
        "execution": {
          "iopub.status.busy": "2022-01-11T08:52:20.147168Z",
          "iopub.execute_input": "2022-01-11T08:52:20.147878Z",
          "iopub.status.idle": "2022-01-11T08:52:20.156922Z",
          "shell.execute_reply.started": "2022-01-11T08:52:20.147462Z",
          "shell.execute_reply": "2022-01-11T08:52:20.155231Z"
        },
        "trusted": true
      },
      "execution_count": null,
      "outputs": []
    },
    {
      "cell_type": "code",
      "source": [
        "from sklearn.ensemble import GradientBoostingRegressor\n",
        "est = GradientBoostingRegressor(n_estimators=100, learning_rate=0.1)\n",
        "est.fit(train_features, train_labels);"
      ],
      "metadata": {
        "execution": {
          "iopub.status.busy": "2022-01-11T08:52:20.160154Z",
          "iopub.execute_input": "2022-01-11T08:52:20.160801Z",
          "iopub.status.idle": "2022-01-11T08:52:24.482111Z",
          "shell.execute_reply.started": "2022-01-11T08:52:20.160564Z",
          "shell.execute_reply": "2022-01-11T08:52:24.480963Z"
        },
        "trusted": true,
        "id": "teQM-O-etrz3"
      },
      "execution_count": null,
      "outputs": []
    },
    {
      "cell_type": "code",
      "source": [
        "predictions = est.predict(test_features)\n",
        "errors = abs(predictions - test_labels)\n",
        "print('Mean Absolute Error:', round(np.mean(errors), 2), 'degrees.')"
      ],
      "metadata": {
        "id": "cMjHk4YL_JDw",
        "execution": {
          "iopub.status.busy": "2022-01-11T08:52:24.483661Z",
          "iopub.execute_input": "2022-01-11T08:52:24.484004Z",
          "iopub.status.idle": "2022-01-11T08:52:24.526790Z",
          "shell.execute_reply.started": "2022-01-11T08:52:24.483944Z",
          "shell.execute_reply": "2022-01-11T08:52:24.525741Z"
        },
        "trusted": true
      },
      "execution_count": null,
      "outputs": []
    },
    {
      "cell_type": "markdown",
      "source": [
        "* **Prediction Accuracy**"
      ],
      "metadata": {
        "id": "PFHEkaUFUVRb"
      }
    },
    {
      "cell_type": "code",
      "source": [
        "# Calculate mean absolute percentage error (MAPE)\n",
        "mape = 100 * (errors / test_labels)\n",
        "# Calculate and display accuracy\n",
        "accuracy = 100 - np.mean(mape)\n",
        "print('Accuracy:', round(accuracy, 2), '%.')"
      ],
      "metadata": {
        "id": "n9HKWBPgBziQ",
        "execution": {
          "iopub.status.busy": "2022-01-11T08:52:24.528524Z",
          "iopub.execute_input": "2022-01-11T08:52:24.529221Z",
          "iopub.status.idle": "2022-01-11T08:52:24.537834Z",
          "shell.execute_reply.started": "2022-01-11T08:52:24.529160Z",
          "shell.execute_reply": "2022-01-11T08:52:24.536549Z"
        },
        "trusted": true
      },
      "execution_count": null,
      "outputs": []
    },
    {
      "cell_type": "code",
      "source": [
        "#feature importances\n",
        "importances = list(est.feature_importances_)\n",
        "#variable and importance\n",
        "feature_importances = [(feature, round(importance, 2)) for feature, importance in zip(feature_list, importances)]\n",
        "# Sort by most important first\n",
        "feature_importances = sorted(feature_importances, key = lambda x: x[1], reverse = True)\n",
        "# Print out the feature and importances \n",
        "[print('Variable: {:20} Importance: {}'.format(*pair)) for pair in feature_importances];"
      ],
      "metadata": {
        "id": "WPIXvny8B4ct",
        "execution": {
          "iopub.status.busy": "2022-01-11T08:52:24.539819Z",
          "iopub.execute_input": "2022-01-11T08:52:24.540678Z",
          "iopub.status.idle": "2022-01-11T08:52:24.557432Z",
          "shell.execute_reply.started": "2022-01-11T08:52:24.540543Z",
          "shell.execute_reply": "2022-01-11T08:52:24.556009Z"
        },
        "trusted": true
      },
      "execution_count": null,
      "outputs": []
    },
    {
      "cell_type": "markdown",
      "source": [
        "According to the analysis and evaluation, it seems that the most important factor in estimating the model is distance."
      ],
      "metadata": {
        "id": "jHJoK2Uhtrz5"
      }
    },
    {
      "cell_type": "markdown",
      "source": [
        "* **Final Evaluation Stage**"
      ],
      "metadata": {
        "id": "_-z57a39trz5"
      }
    },
    {
      "cell_type": "code",
      "source": [
        "def mae(predict, actual):\n",
        "    predict = np.array(predict)\n",
        "    actual = np.array(actual)\n",
        "\n",
        "    difference = abs(predict - actual)\n",
        "    score = difference.mean()\n",
        "\n",
        "    return score\n",
        "\n",
        "def mse(predict, actual):\n",
        "    predict = np.array(predict)\n",
        "    actual = np.array(actual)\n",
        "\n",
        "    difference = predict - actual\n",
        "    square_diff = np.square(difference)\n",
        "\n",
        "    score = square_diff.mean()\n",
        "    return score\n",
        "\n",
        "def mbe(y, y_predict):\n",
        "    errors = [y[i]-y_predict[i] for i in range(len(y))]\n",
        "    bias = sum(errors) * 1.0/len(y)\n",
        "    return bias\n",
        "\n",
        "\n",
        "def sd(y, y_predict):\n",
        "    mse= mean_squared_error(y, y_predict)\n",
        "    mbev=mbe(y, y_predict)\n",
        "    rsme=math.sqrt(mse)\n",
        "    sd=math.sqrt(((rsme*rsme)-(mbev*mbev)))\n",
        "    return sd\n",
        "\n",
        "def MAPE(actual, pred): \n",
        "    actual, pred = np.array(actual), np.array(pred)\n",
        "    return np.mean(np.abs((actual - pred) / actual)) * 100\n",
        "def eva(y, y_predict):\n",
        "    print(\"        \")\n",
        "    print(\"Mean Absolute Error : \")\n",
        "    print(mae(y, y_predict))\n",
        "    print(\"        \")\n",
        "    print(\"Root Mean Absolute Error : \")\n",
        "    print(math.sqrt((mae(y, y_predict))))\n",
        "    print(\"        \")\n",
        "    print(\"Mean Squared Error : \")\n",
        "    print(print(mse(y, y_predict)))\n",
        "    print(\"        \")\n",
        "    print(\"Root Mean Squared Error : \")\n",
        "    print(math.sqrt(mse(y, y_predict)))\n",
        "    print(\"        \")\n",
        "    print(\"Mean Bias Error : \")\n",
        "    print(mbe(y, y_predict))\n",
        "    print(\"        \")\n",
        "    print(\"Systematic    Error : \")\n",
        "    print(sd(y, y_predict))\n",
        "    print(\"        \")\n",
        "    print(\"MAPE : \")\n",
        "    print(MAPE(y, y_predict))"
      ],
      "metadata": {
        "execution": {
          "iopub.status.busy": "2022-01-11T08:52:24.559310Z",
          "iopub.execute_input": "2022-01-11T08:52:24.560034Z",
          "iopub.status.idle": "2022-01-11T08:52:24.574408Z",
          "shell.execute_reply.started": "2022-01-11T08:52:24.559973Z",
          "shell.execute_reply": "2022-01-11T08:52:24.572988Z"
        },
        "trusted": true,
        "id": "b6ZNHoX6trz5"
      },
      "execution_count": null,
      "outputs": []
    },
    {
      "cell_type": "code",
      "source": [
        "from sklearn.metrics import mean_squared_error, r2_score\n",
        "from sklearn.metrics import mean_absolute_error\n",
        "import math\n",
        "eva(test_labels,predictions)"
      ],
      "metadata": {
        "execution": {
          "iopub.status.busy": "2022-01-11T08:52:24.575816Z",
          "iopub.execute_input": "2022-01-11T08:52:24.576572Z",
          "iopub.status.idle": "2022-01-11T08:52:24.648311Z",
          "shell.execute_reply.started": "2022-01-11T08:52:24.576088Z",
          "shell.execute_reply": "2022-01-11T08:52:24.647496Z"
        },
        "trusted": true,
        "id": "8Ab-pd2Vtrz6"
      },
      "execution_count": null,
      "outputs": []
    },
    {
      "cell_type": "markdown",
      "source": [
        "**Conclusion**\n",
        "\n",
        "Considering the various measurement and evaluation criteria on the experimental data set, it is concluded that the given trained model (Gradient Boosting Regressor) has the ability to make appropriate estimates. In this project, we intended to perform a detailed examination on the Uber data set. We reasonably design a model for estimating prices at different distances and weather conditions. Based on the results of the initial analysis and the final evaluation, it is concluded that the performance of the model is acceptable (Mean Absolute Error : 1.107435777607448, and Mean Bias Error : 0.011175742322951845)."
      ],
      "metadata": {
        "id": "2r9Nzkhhtrz6"
      }
    },
    {
      "cell_type": "code",
      "source": [],
      "metadata": {
        "id": "EXrBjtoItrz6"
      },
      "execution_count": null,
      "outputs": []
    },
    {
      "cell_type": "code",
      "source": [],
      "metadata": {
        "id": "7UEBsGhvtrz7"
      },
      "execution_count": null,
      "outputs": []
    }
  ]
}