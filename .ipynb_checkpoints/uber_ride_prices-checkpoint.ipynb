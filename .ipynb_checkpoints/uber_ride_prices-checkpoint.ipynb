{
 "cells": [
  {
   "cell_type": "markdown",
   "metadata": {
    "id": "view-in-github"
   },
   "source": [
    "<a href=\"https://colab.research.google.com/github/ravi72munde/scala-spark-cab-rides-predictions/blob/Ravi/Cab_Price_Prediction.ipynb\" target=\"_parent\"><img src=\"https://colab.research.google.com/assets/colab-badge.svg\" alt=\"Open In Colab\"/></a>"
   ]
  },
  {
   "cell_type": "markdown",
   "metadata": {
    "id": "w-twoCCatrzn"
   },
   "source": [
    "**Uber ride prices**:\n",
    "\n",
    "**Hamed Tabrizchi**\n",
    "\n"
   ]
  },
  {
   "cell_type": "markdown",
   "metadata": {
    "id": "agUypjgPu2aC"
   },
   "source": [
    "The purpose of this project is to investigate the relationship between cab fares and the weather. The datasets used in this study were taken from Kaggle. A price prediction model will also be developed by training and testing data."
   ]
  },
  {
   "cell_type": "markdown",
   "metadata": {
    "id": "s0sIrgmztrzp"
   },
   "source": [
    "Unlike public transportation, Uber ride prices fluctuate. The demand and supply of rides at any one time have a significant impact on them. We'd like to learn more about what drives demand for rides and how pricing change with time and weather in this data science study.Understanding the elements that determine the pricing of a cab is the main goal of this study, to forecast trip costs based on these variables (Distance, Cab type, Timestamp, Destination, Source, Price estimate, \n",
    "Temperature, Location, Clouds, Pressure, Timestamp,Humidity, and Wind)."
   ]
  },
  {
   "cell_type": "markdown",
   "metadata": {
    "id": "BxumU3uDtrzq"
   },
   "source": [
    "* **DATA**\n",
    "\n",
    "In this project, two data sets are considered. One of the data sets was collected according to the vehicles and the other according to the weather conditions. In the following, we will examine each dataset separately.\n",
    "\n",
    "The dataset for this project has been taken from Kaggle. The dataset can be viewed or downloaded by visiting the following link: https://www.kaggle.com/datasets/ravi72munde/uber-lyft-cab-prices"
   ]
  },
  {
   "cell_type": "code",
   "execution_count": null,
   "metadata": {
    "execution": {
     "iopub.execute_input": "2022-01-11T08:43:46.127940Z",
     "iopub.status.busy": "2022-01-11T08:43:46.127610Z",
     "iopub.status.idle": "2022-01-11T08:43:46.135555Z",
     "shell.execute_reply": "2022-01-11T08:43:46.134280Z",
     "shell.execute_reply.started": "2022-01-11T08:43:46.127879Z"
    },
    "id": "D8MbqoPg8FNG"
   },
   "outputs": [],
   "source": [
    "import pandas as pd"
   ]
  },
  {
   "cell_type": "code",
   "execution_count": null,
   "metadata": {
    "execution": {
     "iopub.execute_input": "2022-01-11T08:43:46.142905Z",
     "iopub.status.busy": "2022-01-11T08:43:46.142374Z",
     "iopub.status.idle": "2022-01-11T08:43:48.661072Z",
     "shell.execute_reply": "2022-01-11T08:43:48.660170Z",
     "shell.execute_reply.started": "2022-01-11T08:43:46.142838Z"
    },
    "id": "kXDbdsLr91ft"
   },
   "outputs": [],
   "source": [
    "cab_df = pd.read_csv(\"../input/cab_rides.csv\")\n",
    "weather_df = pd.read_csv(\"../input/weather.csv\")"
   ]
  },
  {
   "cell_type": "code",
   "execution_count": null,
   "metadata": {
    "execution": {
     "iopub.execute_input": "2022-01-11T08:43:48.665516Z",
     "iopub.status.busy": "2022-01-11T08:43:48.665245Z",
     "iopub.status.idle": "2022-01-11T08:43:48.716669Z",
     "shell.execute_reply": "2022-01-11T08:43:48.715815Z",
     "shell.execute_reply.started": "2022-01-11T08:43:48.665455Z"
    },
    "id": "bgYMYs0Atrzr"
   },
   "outputs": [],
   "source": [
    "cab_df.head()"
   ]
  },
  {
   "cell_type": "code",
   "execution_count": null,
   "metadata": {
    "execution": {
     "iopub.execute_input": "2022-01-11T08:43:48.720679Z",
     "iopub.status.busy": "2022-01-11T08:43:48.720417Z",
     "iopub.status.idle": "2022-01-11T08:43:48.753194Z",
     "shell.execute_reply": "2022-01-11T08:43:48.751972Z",
     "shell.execute_reply.started": "2022-01-11T08:43:48.720618Z"
    },
    "id": "5d3sj-Bqtrzs"
   },
   "outputs": [],
   "source": [
    "weather_df.head()"
   ]
  },
  {
   "cell_type": "code",
   "execution_count": null,
   "metadata": {
    "execution": {
     "iopub.execute_input": "2022-01-11T08:43:48.755306Z",
     "iopub.status.busy": "2022-01-11T08:43:48.754973Z",
     "iopub.status.idle": "2022-01-11T08:43:48.942622Z",
     "shell.execute_reply": "2022-01-11T08:43:48.941549Z",
     "shell.execute_reply.started": "2022-01-11T08:43:48.755248Z"
    },
    "id": "VFqWqkVFtrzs"
   },
   "outputs": [],
   "source": [
    "cab_df.describe()"
   ]
  },
  {
   "cell_type": "code",
   "execution_count": null,
   "metadata": {
    "execution": {
     "iopub.execute_input": "2021-12-16T14:32:30.607826Z",
     "iopub.status.busy": "2021-12-16T14:32:30.607553Z",
     "iopub.status.idle": "2021-12-16T14:32:30.647854Z",
     "shell.execute_reply": "2021-12-16T14:32:30.647003Z",
     "shell.execute_reply.started": "2021-12-16T14:32:30.60778Z"
    },
    "id": "yDLSTjp_trzt"
   },
   "outputs": [],
   "source": [
    "weather_df.describe()"
   ]
  },
  {
   "cell_type": "code",
   "execution_count": null,
   "metadata": {
    "execution": {
     "iopub.execute_input": "2021-12-16T14:32:30.649887Z",
     "iopub.status.busy": "2021-12-16T14:32:30.649372Z",
     "iopub.status.idle": "2021-12-16T14:32:30.708951Z",
     "shell.execute_reply": "2021-12-16T14:32:30.708212Z",
     "shell.execute_reply.started": "2021-12-16T14:32:30.649612Z"
    },
    "id": "arsu39T_trzt"
   },
   "outputs": [],
   "source": [
    "cab_df.corr()"
   ]
  },
  {
   "cell_type": "code",
   "execution_count": null,
   "metadata": {
    "execution": {
     "iopub.execute_input": "2021-12-16T14:32:31.029664Z",
     "iopub.status.busy": "2021-12-16T14:32:31.029368Z",
     "iopub.status.idle": "2021-12-16T14:32:31.053247Z",
     "shell.execute_reply": "2021-12-16T14:32:31.052321Z",
     "shell.execute_reply.started": "2021-12-16T14:32:31.029589Z"
    },
    "id": "m3PtYobxtrzu"
   },
   "outputs": [],
   "source": [
    "weather_df.corr()"
   ]
  },
  {
   "cell_type": "code",
   "execution_count": null,
   "metadata": {
    "execution": {
     "iopub.execute_input": "2021-12-16T14:32:31.361411Z",
     "iopub.status.busy": "2021-12-16T14:32:31.361151Z",
     "iopub.status.idle": "2021-12-16T14:32:40.124948Z",
     "shell.execute_reply": "2021-12-16T14:32:40.124107Z",
     "shell.execute_reply.started": "2021-12-16T14:32:31.361363Z"
    },
    "id": "XqOvTMD_trzu"
   },
   "outputs": [],
   "source": [
    "pd.plotting.scatter_matrix(weather_df, alpha=0.2)"
   ]
  },
  {
   "cell_type": "code",
   "execution_count": null,
   "metadata": {
    "execution": {
     "iopub.execute_input": "2021-12-16T14:32:40.126239Z",
     "iopub.status.busy": "2021-12-16T14:32:40.125948Z",
     "iopub.status.idle": "2021-12-16T14:35:41.29618Z",
     "shell.execute_reply": "2021-12-16T14:35:41.295463Z",
     "shell.execute_reply.started": "2021-12-16T14:32:40.126156Z"
    },
    "id": "vTHnx6Rktrzu"
   },
   "outputs": [],
   "source": [
    "pd.plotting.scatter_matrix(cab_df, alpha=0.2)"
   ]
  },
  {
   "cell_type": "markdown",
   "metadata": {
    "id": "7LbbeeuYtrzu"
   },
   "source": [
    "**Describing data set**"
   ]
  },
  {
   "cell_type": "code",
   "execution_count": null,
   "metadata": {
    "execution": {
     "iopub.execute_input": "2022-01-11T08:45:58.863972Z",
     "iopub.status.busy": "2022-01-11T08:45:58.863633Z",
     "iopub.status.idle": "2022-01-11T08:45:58.873239Z",
     "shell.execute_reply": "2022-01-11T08:45:58.872009Z",
     "shell.execute_reply.started": "2022-01-11T08:45:58.863914Z"
    },
    "id": "L_BebxBCtrzv"
   },
   "outputs": [],
   "source": [
    "print('Weather Data set size = ', weather_df.shape)\n",
    "print('Weather Data set Dimension = ', weather_df.ndim)\n",
    "print('*================================*')\n",
    "print('Cab Data set size = ', cab_df.shape)\n",
    "print('Cab Data set Dimension = ', cab_df.ndim)"
   ]
  },
  {
   "cell_type": "code",
   "execution_count": null,
   "metadata": {
    "execution": {
     "iopub.execute_input": "2022-01-11T08:46:43.499643Z",
     "iopub.status.busy": "2022-01-11T08:46:43.499324Z",
     "iopub.status.idle": "2022-01-11T08:46:43.512550Z",
     "shell.execute_reply": "2022-01-11T08:46:43.511253Z",
     "shell.execute_reply.started": "2022-01-11T08:46:43.499581Z"
    },
    "id": "DEia6-mBtrzv"
   },
   "outputs": [],
   "source": [
    "print('Weather Data set types -> ')\n",
    "weather_df.dtypes"
   ]
  },
  {
   "cell_type": "code",
   "execution_count": null,
   "metadata": {
    "execution": {
     "iopub.execute_input": "2022-01-11T08:46:58.376684Z",
     "iopub.status.busy": "2022-01-11T08:46:58.376243Z",
     "iopub.status.idle": "2022-01-11T08:46:58.386240Z",
     "shell.execute_reply": "2022-01-11T08:46:58.384915Z",
     "shell.execute_reply.started": "2022-01-11T08:46:58.376606Z"
    },
    "id": "LcX5woRPtrzv"
   },
   "outputs": [],
   "source": [
    "print('Cab Data set types -> ')\n",
    "cab_df.dtypes"
   ]
  },
  {
   "cell_type": "markdown",
   "metadata": {
    "id": "ks_QrfOHtrzv"
   },
   "source": [
    "* **Combining two data sets**\n",
    "\n",
    "In this section, to provide a more complete data set with more features, we try to merge the two data sets. In order for this operation to be performed correctly, a linear relationship between the properties will be evaluated after combination."
   ]
  },
  {
   "cell_type": "code",
   "execution_count": null,
   "metadata": {
    "execution": {
     "iopub.execute_input": "2022-01-11T08:51:58.871595Z",
     "iopub.status.busy": "2022-01-11T08:51:58.871221Z",
     "iopub.status.idle": "2022-01-11T08:52:06.757495Z",
     "shell.execute_reply": "2022-01-11T08:52:06.756368Z",
     "shell.execute_reply.started": "2022-01-11T08:51:58.871534Z"
    },
    "id": "Hthonxgy92dv"
   },
   "outputs": [],
   "source": [
    "cab_df['date_time'] = pd.to_datetime(cab_df['time_stamp']/1000, unit='s')\n",
    "weather_df['date_time'] = pd.to_datetime(weather_df['time_stamp'], unit='s')\n",
    "cab_df.head()"
   ]
  },
  {
   "cell_type": "code",
   "execution_count": null,
   "metadata": {
    "execution": {
     "iopub.execute_input": "2022-01-11T08:52:06.760028Z",
     "iopub.status.busy": "2022-01-11T08:52:06.759334Z",
     "iopub.status.idle": "2022-01-11T08:52:08.922987Z",
     "shell.execute_reply": "2022-01-11T08:52:08.921963Z",
     "shell.execute_reply.started": "2022-01-11T08:52:06.759628Z"
    },
    "id": "yVA22Tow93tS"
   },
   "outputs": [],
   "source": [
    "#merge the datasets to refelect same time for a location\n",
    "cab_df['merge_date'] = cab_df.source.astype(str) +\" - \"+ cab_df.date_time.dt.date.astype(\"str\") +\" - \"+ cab_df.date_time.dt.hour.astype(\"str\")\n",
    "weather_df['merge_date'] = weather_df.location.astype(str) +\" - \"+ weather_df.date_time.dt.date.astype(\"str\") +\" - \"+ weather_df.date_time.dt.hour.astype(\"str\")"
   ]
  },
  {
   "cell_type": "code",
   "execution_count": null,
   "metadata": {
    "execution": {
     "iopub.execute_input": "2022-01-11T08:52:08.925271Z",
     "iopub.status.busy": "2022-01-11T08:52:08.924643Z",
     "iopub.status.idle": "2022-01-11T08:52:08.931887Z",
     "shell.execute_reply": "2022-01-11T08:52:08.930329Z",
     "shell.execute_reply.started": "2022-01-11T08:52:08.925088Z"
    },
    "id": "KqZ4F2Ip-Ddm"
   },
   "outputs": [],
   "source": [
    "weather_df.index = weather_df['merge_date']"
   ]
  },
  {
   "cell_type": "code",
   "execution_count": null,
   "metadata": {
    "execution": {
     "iopub.execute_input": "2022-01-11T08:52:08.934818Z",
     "iopub.status.busy": "2022-01-11T08:52:08.934015Z",
     "iopub.status.idle": "2022-01-11T08:52:08.983605Z",
     "shell.execute_reply": "2022-01-11T08:52:08.982267Z",
     "shell.execute_reply.started": "2022-01-11T08:52:08.934553Z"
    },
    "id": "sB9F2_-q-D4j"
   },
   "outputs": [],
   "source": [
    "cab_df.head()"
   ]
  },
  {
   "cell_type": "code",
   "execution_count": null,
   "metadata": {
    "execution": {
     "iopub.execute_input": "2022-01-11T08:52:08.986108Z",
     "iopub.status.busy": "2022-01-11T08:52:08.985425Z",
     "iopub.status.idle": "2022-01-11T08:52:10.349304Z",
     "shell.execute_reply": "2022-01-11T08:52:10.347920Z",
     "shell.execute_reply.started": "2022-01-11T08:52:08.986022Z"
    },
    "id": "sd0VrZr3-E_8"
   },
   "outputs": [],
   "source": [
    "merged_df = cab_df.join(weather_df,on=['merge_date'],rsuffix ='_w')"
   ]
  },
  {
   "cell_type": "code",
   "execution_count": null,
   "metadata": {
    "execution": {
     "iopub.execute_input": "2022-01-11T08:52:10.355914Z",
     "iopub.status.busy": "2022-01-11T08:52:10.355188Z",
     "iopub.status.idle": "2022-01-11T08:52:10.386192Z",
     "shell.execute_reply": "2022-01-11T08:52:10.377939Z",
     "shell.execute_reply.started": "2022-01-11T08:52:10.355506Z"
    },
    "id": "7wSBr30X-HRZ"
   },
   "outputs": [],
   "source": [
    "merged_df['rain'].fillna(0,inplace=True)"
   ]
  },
  {
   "cell_type": "code",
   "execution_count": null,
   "metadata": {
    "execution": {
     "iopub.execute_input": "2022-01-11T08:52:10.400143Z",
     "iopub.status.busy": "2022-01-11T08:52:10.394098Z",
     "iopub.status.idle": "2022-01-11T08:52:11.508645Z",
     "shell.execute_reply": "2022-01-11T08:52:11.507451Z",
     "shell.execute_reply.started": "2022-01-11T08:52:10.394407Z"
    },
    "id": "Fu53tQiC-ISF"
   },
   "outputs": [],
   "source": [
    "merged_df = merged_df[pd.notnull(merged_df['date_time_w'])]"
   ]
  },
  {
   "cell_type": "code",
   "execution_count": null,
   "metadata": {
    "execution": {
     "iopub.execute_input": "2022-01-11T08:52:11.510552Z",
     "iopub.status.busy": "2022-01-11T08:52:11.510235Z",
     "iopub.status.idle": "2022-01-11T08:52:11.769593Z",
     "shell.execute_reply": "2022-01-11T08:52:11.768524Z",
     "shell.execute_reply.started": "2022-01-11T08:52:11.510494Z"
    },
    "id": "nXpNbtSe-LX4"
   },
   "outputs": [],
   "source": [
    "merged_df = merged_df[pd.notnull(merged_df['price'])]"
   ]
  },
  {
   "cell_type": "code",
   "execution_count": null,
   "metadata": {
    "execution": {
     "iopub.execute_input": "2022-01-11T08:52:11.771865Z",
     "iopub.status.busy": "2022-01-11T08:52:11.771242Z",
     "iopub.status.idle": "2022-01-11T08:52:11.872373Z",
     "shell.execute_reply": "2022-01-11T08:52:11.871508Z",
     "shell.execute_reply.started": "2022-01-11T08:52:11.771649Z"
    },
    "id": "uMH-PD_k-MhS"
   },
   "outputs": [],
   "source": [
    "merged_df['day'] = merged_df.date_time.dt.dayofweek"
   ]
  },
  {
   "cell_type": "code",
   "execution_count": null,
   "metadata": {
    "execution": {
     "iopub.execute_input": "2022-01-11T08:52:11.874718Z",
     "iopub.status.busy": "2022-01-11T08:52:11.873942Z",
     "iopub.status.idle": "2022-01-11T08:52:11.929816Z",
     "shell.execute_reply": "2022-01-11T08:52:11.928900Z",
     "shell.execute_reply.started": "2022-01-11T08:52:11.874521Z"
    },
    "id": "AF86jDYF-5Nr"
   },
   "outputs": [],
   "source": [
    "merged_df['hour'] = merged_df.date_time.dt.hour"
   ]
  },
  {
   "cell_type": "code",
   "execution_count": null,
   "metadata": {
    "execution": {
     "iopub.execute_input": "2022-01-11T08:52:11.933194Z",
     "iopub.status.busy": "2022-01-11T08:52:11.931496Z",
     "iopub.status.idle": "2022-01-11T08:52:11.941737Z",
     "shell.execute_reply": "2022-01-11T08:52:11.940568Z",
     "shell.execute_reply.started": "2022-01-11T08:52:11.931988Z"
    },
    "id": "aosPlqKZ-c93"
   },
   "outputs": [],
   "source": [
    "merged_df.columns"
   ]
  },
  {
   "cell_type": "code",
   "execution_count": null,
   "metadata": {
    "execution": {
     "iopub.execute_input": "2022-01-11T08:52:11.944450Z",
     "iopub.status.busy": "2022-01-11T08:52:11.943699Z",
     "iopub.status.idle": "2022-01-11T08:52:13.280512Z",
     "shell.execute_reply": "2022-01-11T08:52:13.279203Z",
     "shell.execute_reply.started": "2022-01-11T08:52:11.944385Z"
    },
    "id": "DVvty2sN_3kR"
   },
   "outputs": [],
   "source": [
    "merged_df.count()"
   ]
  },
  {
   "cell_type": "code",
   "execution_count": null,
   "metadata": {
    "execution": {
     "iopub.execute_input": "2022-01-11T08:52:13.282741Z",
     "iopub.status.busy": "2022-01-11T08:52:13.282169Z",
     "iopub.status.idle": "2022-01-11T08:52:13.353260Z",
     "shell.execute_reply": "2022-01-11T08:52:13.352390Z",
     "shell.execute_reply.started": "2022-01-11T08:52:13.282666Z"
    },
    "id": "68YIth0Gtrzz"
   },
   "outputs": [],
   "source": [
    "merged_df.head()"
   ]
  },
  {
   "cell_type": "code",
   "execution_count": null,
   "metadata": {
    "execution": {
     "iopub.execute_input": "2022-01-11T08:52:13.355906Z",
     "iopub.status.busy": "2022-01-11T08:52:13.355296Z",
     "iopub.status.idle": "2022-01-11T08:52:13.926172Z",
     "shell.execute_reply": "2022-01-11T08:52:13.925278Z",
     "shell.execute_reply.started": "2022-01-11T08:52:13.355613Z"
    },
    "id": "uyUq_Ek6trzz"
   },
   "outputs": [],
   "source": [
    "merged_df.corr()"
   ]
  },
  {
   "cell_type": "markdown",
   "metadata": {
    "id": "6p_NxnK7trzz"
   },
   "source": [
    "**Identifying independent and dependent variables**"
   ]
  },
  {
   "cell_type": "markdown",
   "metadata": {
    "id": "BKWa8T4Etrzz"
   },
   "source": [
    "As mentioned, after merging the two datasets, the linear relationship between the features was examined to ensure the accuracy of integration of the two datasets."
   ]
  },
  {
   "cell_type": "code",
   "execution_count": null,
   "metadata": {
    "execution": {
     "iopub.execute_input": "2022-01-11T08:52:13.927980Z",
     "iopub.status.busy": "2022-01-11T08:52:13.927603Z",
     "iopub.status.idle": "2022-01-11T08:52:17.758180Z",
     "shell.execute_reply": "2022-01-11T08:52:17.756970Z",
     "shell.execute_reply.started": "2022-01-11T08:52:13.927905Z"
    },
    "id": "qBL0AVOotrzz"
   },
   "outputs": [],
   "source": [
    "import matplotlib.pyplot as plt\n",
    "import seaborn as sns\n",
    "\n",
    "plt.figure(figsize=(15, 10))\n",
    "sns.heatmap(merged_df.corr(), annot=True)"
   ]
  },
  {
   "cell_type": "code",
   "execution_count": null,
   "metadata": {
    "execution": {
     "iopub.execute_input": "2022-01-11T08:52:17.759960Z",
     "iopub.status.busy": "2022-01-11T08:52:17.759600Z",
     "iopub.status.idle": "2022-01-11T08:52:19.098041Z",
     "shell.execute_reply": "2022-01-11T08:52:19.097065Z",
     "shell.execute_reply.started": "2022-01-11T08:52:17.759899Z"
    },
    "id": "isIOEAJ3trz0"
   },
   "outputs": [],
   "source": [
    "#Check for possible null values in the current data set\n",
    "merged_df.info()"
   ]
  },
  {
   "cell_type": "code",
   "execution_count": null,
   "metadata": {
    "execution": {
     "iopub.execute_input": "2022-01-11T09:10:41.755563Z",
     "iopub.status.busy": "2022-01-11T09:10:41.755120Z",
     "iopub.status.idle": "2022-01-11T09:10:48.879316Z",
     "shell.execute_reply": "2022-01-11T09:10:48.878323Z",
     "shell.execute_reply.started": "2022-01-11T09:10:41.755496Z"
    },
    "id": "jVwaM_-itrz0"
   },
   "outputs": [],
   "source": [
    "plt.figure(figsize=(12, 10))\n",
    "plt.plot(merged_df['distance'], merged_df['price'], 'ro')\n",
    "plt.title('distance vs price')\n",
    "plt.xlabel(\"distance\")\n",
    "plt.ylabel(\"price\")"
   ]
  },
  {
   "cell_type": "code",
   "execution_count": null,
   "metadata": {
    "execution": {
     "iopub.execute_input": "2022-01-11T09:10:35.417333Z",
     "iopub.status.busy": "2022-01-11T09:10:35.416980Z",
     "iopub.status.idle": "2022-01-11T09:10:41.751613Z",
     "shell.execute_reply": "2022-01-11T09:10:41.750304Z",
     "shell.execute_reply.started": "2022-01-11T09:10:35.417272Z"
    },
    "id": "7ZL4GQzptrz0"
   },
   "outputs": [],
   "source": [
    "plt.figure(figsize=(12, 10))\n",
    "plt.plot(merged_df['rain'], merged_df['price'], 'b^')\n",
    "plt.title('rain vs price')\n",
    "plt.xlabel(\"rain\")\n",
    "plt.ylabel(\"price\")"
   ]
  },
  {
   "cell_type": "code",
   "execution_count": null,
   "metadata": {
    "execution": {
     "iopub.execute_input": "2022-01-11T09:12:33.429511Z",
     "iopub.status.busy": "2022-01-11T09:12:33.429117Z",
     "iopub.status.idle": "2022-01-11T09:12:39.310710Z",
     "shell.execute_reply": "2022-01-11T09:12:39.309308Z",
     "shell.execute_reply.started": "2022-01-11T09:12:33.429436Z"
    },
    "id": "NdgcAka0trz0"
   },
   "outputs": [],
   "source": [
    "plt.figure(figsize=(12, 10))\n",
    "plt.plot(merged_df['surge_multiplier'], merged_df['price'], 'ks')\n",
    "plt.title('surge_multiplier vs price')\n",
    "plt.xlabel(\"surge_multiplier\")\n",
    "plt.ylabel(\"price\")"
   ]
  },
  {
   "cell_type": "code",
   "execution_count": null,
   "metadata": {
    "execution": {
     "iopub.execute_input": "2022-01-11T08:52:19.099939Z",
     "iopub.status.busy": "2022-01-11T08:52:19.099618Z",
     "iopub.status.idle": "2022-01-11T08:52:19.190678Z",
     "shell.execute_reply": "2022-01-11T08:52:19.189273Z",
     "shell.execute_reply.started": "2022-01-11T08:52:19.099882Z"
    },
    "id": "5JSOUq5otrz0"
   },
   "outputs": [],
   "source": [
    "merged_df.product_id.unique()"
   ]
  },
  {
   "cell_type": "markdown",
   "metadata": {
    "id": "h-DKTgxqtrz1"
   },
   "source": [
    "As you can see above, various services are provided for transportation(*lyft_line, lyft_premier, lyft_luxsuv, lyft_plus,lyft_lux, and lyft*), and we intend to provide a forecasting model specifically for one of the services (*lyft_line*) in order to improve the accuracy of the final decision. This operation can be done for any of the services and it is enough to change the desired service before starting the model learning process."
   ]
  },
  {
   "cell_type": "code",
   "execution_count": null,
   "metadata": {
    "execution": {
     "iopub.execute_input": "2022-01-11T08:52:19.193303Z",
     "iopub.status.busy": "2022-01-11T08:52:19.192662Z",
     "iopub.status.idle": "2022-01-11T08:52:19.450398Z",
     "shell.execute_reply": "2022-01-11T08:52:19.449470Z",
     "shell.execute_reply.started": "2022-01-11T08:52:19.192963Z"
    },
    "id": "qYde3J9z-0pF"
   },
   "outputs": [],
   "source": [
    "X = merged_df[merged_df.product_id=='lyft_line'][['day','distance','hour','temp','clouds', 'pressure','humidity', 'wind', 'rain']]"
   ]
  },
  {
   "cell_type": "code",
   "execution_count": null,
   "metadata": {
    "execution": {
     "iopub.execute_input": "2022-01-11T08:52:19.452789Z",
     "iopub.status.busy": "2022-01-11T08:52:19.452077Z",
     "iopub.status.idle": "2022-01-11T08:52:19.480125Z",
     "shell.execute_reply": "2022-01-11T08:52:19.478123Z",
     "shell.execute_reply.started": "2022-01-11T08:52:19.452447Z"
    },
    "id": "1lFCZYGoAez5"
   },
   "outputs": [],
   "source": [
    "X.count()"
   ]
  },
  {
   "cell_type": "code",
   "execution_count": null,
   "metadata": {
    "execution": {
     "iopub.execute_input": "2022-01-11T08:52:19.482253Z",
     "iopub.status.busy": "2022-01-11T08:52:19.481738Z",
     "iopub.status.idle": "2022-01-11T08:52:19.726303Z",
     "shell.execute_reply": "2022-01-11T08:52:19.725261Z",
     "shell.execute_reply.started": "2022-01-11T08:52:19.482130Z"
    },
    "id": "3jwsqfWn-NkZ"
   },
   "outputs": [],
   "source": [
    "y = merged_df[merged_df.product_id=='lyft_line']['price'] "
   ]
  },
  {
   "cell_type": "code",
   "execution_count": null,
   "metadata": {
    "execution": {
     "iopub.execute_input": "2022-01-11T08:52:19.728577Z",
     "iopub.status.busy": "2022-01-11T08:52:19.727990Z",
     "iopub.status.idle": "2022-01-11T08:52:19.736069Z",
     "shell.execute_reply": "2022-01-11T08:52:19.735059Z",
     "shell.execute_reply.started": "2022-01-11T08:52:19.728306Z"
    },
    "id": "uYyi_4aUBHlT"
   },
   "outputs": [],
   "source": [
    "y.count()"
   ]
  },
  {
   "cell_type": "code",
   "execution_count": null,
   "metadata": {
    "execution": {
     "iopub.execute_input": "2022-01-11T08:52:19.738306Z",
     "iopub.status.busy": "2022-01-11T08:52:19.737713Z",
     "iopub.status.idle": "2022-01-11T08:52:19.752341Z",
     "shell.execute_reply": "2022-01-11T08:52:19.751507Z",
     "shell.execute_reply.started": "2022-01-11T08:52:19.738238Z"
    },
    "id": "dHkdZAZP-2Kz"
   },
   "outputs": [],
   "source": [
    "X.reset_index(inplace=True)\n",
    "X = X.drop(columns=['index'])"
   ]
  },
  {
   "cell_type": "code",
   "execution_count": null,
   "metadata": {
    "execution": {
     "iopub.execute_input": "2022-01-11T08:52:19.754809Z",
     "iopub.status.busy": "2022-01-11T08:52:19.754256Z",
     "iopub.status.idle": "2022-01-11T08:52:19.786541Z",
     "shell.execute_reply": "2022-01-11T08:52:19.785500Z",
     "shell.execute_reply.started": "2022-01-11T08:52:19.754749Z"
    },
    "id": "XuXmWXBZ-9lf"
   },
   "outputs": [],
   "source": [
    "X.head()"
   ]
  },
  {
   "cell_type": "code",
   "execution_count": null,
   "metadata": {
    "execution": {
     "iopub.execute_input": "2022-01-11T08:52:19.788893Z",
     "iopub.status.busy": "2022-01-11T08:52:19.788278Z",
     "iopub.status.idle": "2022-01-11T08:52:19.808131Z",
     "shell.execute_reply": "2022-01-11T08:52:19.807249Z",
     "shell.execute_reply.started": "2022-01-11T08:52:19.788833Z"
    },
    "id": "BLewUmR_-_Wy"
   },
   "outputs": [],
   "source": [
    "#To convert categorical data into dummy or indicator variables, we can use get_dummies method.\n",
    "features = pd.get_dummies(X)"
   ]
  },
  {
   "cell_type": "code",
   "execution_count": null,
   "metadata": {
    "execution": {
     "iopub.execute_input": "2022-01-11T08:52:19.812463Z",
     "iopub.status.busy": "2022-01-11T08:52:19.812136Z",
     "iopub.status.idle": "2022-01-11T08:52:19.819749Z",
     "shell.execute_reply": "2022-01-11T08:52:19.818453Z",
     "shell.execute_reply.started": "2022-01-11T08:52:19.812404Z"
    },
    "id": "QtG02FhT_BXo"
   },
   "outputs": [],
   "source": [
    "features.columns"
   ]
  },
  {
   "cell_type": "code",
   "execution_count": null,
   "metadata": {
    "execution": {
     "iopub.execute_input": "2022-01-11T08:52:19.822518Z",
     "iopub.status.busy": "2022-01-11T08:52:19.821687Z",
     "iopub.status.idle": "2022-01-11T08:52:19.836738Z",
     "shell.execute_reply": "2022-01-11T08:52:19.835851Z",
     "shell.execute_reply.started": "2022-01-11T08:52:19.822406Z"
    },
    "id": "MjK4mBw8_DF8"
   },
   "outputs": [],
   "source": [
    "# Use numpy to convert to arrays\n",
    "import numpy as np\n",
    "# Labels are the values we want to predict\n",
    "labels = np.array(y)\n",
    "\n",
    "# Saving feature names for later use\n",
    "feature_list = list(features.columns)\n",
    "# Convert to numpy array\n",
    "features = np.array(features)"
   ]
  },
  {
   "cell_type": "code",
   "execution_count": null,
   "metadata": {
    "execution": {
     "iopub.execute_input": "2022-01-11T08:52:19.839333Z",
     "iopub.status.busy": "2022-01-11T08:52:19.838645Z",
     "iopub.status.idle": "2022-01-11T08:52:20.145074Z",
     "shell.execute_reply": "2022-01-11T08:52:20.144189Z",
     "shell.execute_reply.started": "2022-01-11T08:52:19.839241Z"
    },
    "id": "BbxSbiey_Eov"
   },
   "outputs": [],
   "source": [
    "# Using Skicit-learn to split data into training and testing sets\n",
    "from sklearn.model_selection import train_test_split\n",
    "# Split the data into training and testing sets\n",
    "train_features, test_features, train_labels, test_labels = train_test_split(features, labels, test_size = 0.25, random_state = 42)"
   ]
  },
  {
   "cell_type": "code",
   "execution_count": null,
   "metadata": {
    "execution": {
     "iopub.execute_input": "2022-01-11T08:52:20.147878Z",
     "iopub.status.busy": "2022-01-11T08:52:20.147168Z",
     "iopub.status.idle": "2022-01-11T08:52:20.156922Z",
     "shell.execute_reply": "2022-01-11T08:52:20.155231Z",
     "shell.execute_reply.started": "2022-01-11T08:52:20.147462Z"
    },
    "id": "qmTQGdxy_GWl"
   },
   "outputs": [],
   "source": [
    "print('Training Features Shape:', train_features.shape)\n",
    "print('Training Labels Shape:', train_labels.shape)\n",
    "print('Testing Features Shape:', test_features.shape)\n",
    "print('Testing Labels Shape:', test_labels.shape)"
   ]
  },
  {
   "cell_type": "code",
   "execution_count": null,
   "metadata": {
    "execution": {
     "iopub.execute_input": "2022-01-11T08:52:20.160801Z",
     "iopub.status.busy": "2022-01-11T08:52:20.160154Z",
     "iopub.status.idle": "2022-01-11T08:52:24.482111Z",
     "shell.execute_reply": "2022-01-11T08:52:24.480963Z",
     "shell.execute_reply.started": "2022-01-11T08:52:20.160564Z"
    },
    "id": "teQM-O-etrz3"
   },
   "outputs": [],
   "source": [
    "from sklearn.ensemble import GradientBoostingRegressor\n",
    "est = GradientBoostingRegressor(n_estimators=100, learning_rate=0.1)\n",
    "est.fit(train_features, train_labels);"
   ]
  },
  {
   "cell_type": "code",
   "execution_count": null,
   "metadata": {
    "execution": {
     "iopub.execute_input": "2022-01-11T08:52:24.484004Z",
     "iopub.status.busy": "2022-01-11T08:52:24.483661Z",
     "iopub.status.idle": "2022-01-11T08:52:24.526790Z",
     "shell.execute_reply": "2022-01-11T08:52:24.525741Z",
     "shell.execute_reply.started": "2022-01-11T08:52:24.483944Z"
    },
    "id": "cMjHk4YL_JDw"
   },
   "outputs": [],
   "source": [
    "predictions = est.predict(test_features)\n",
    "errors = abs(predictions - test_labels)\n",
    "print('Mean Absolute Error:', round(np.mean(errors), 2), 'degrees.')"
   ]
  },
  {
   "cell_type": "markdown",
   "metadata": {
    "id": "PFHEkaUFUVRb"
   },
   "source": [
    "* **Prediction Accuracy**"
   ]
  },
  {
   "cell_type": "code",
   "execution_count": null,
   "metadata": {
    "execution": {
     "iopub.execute_input": "2022-01-11T08:52:24.529221Z",
     "iopub.status.busy": "2022-01-11T08:52:24.528524Z",
     "iopub.status.idle": "2022-01-11T08:52:24.537834Z",
     "shell.execute_reply": "2022-01-11T08:52:24.536549Z",
     "shell.execute_reply.started": "2022-01-11T08:52:24.529160Z"
    },
    "id": "n9HKWBPgBziQ"
   },
   "outputs": [],
   "source": [
    "# Calculate mean absolute percentage error (MAPE)\n",
    "mape = 100 * (errors / test_labels)\n",
    "# Calculate and display accuracy\n",
    "accuracy = 100 - np.mean(mape)\n",
    "print('Accuracy:', round(accuracy, 2), '%.')"
   ]
  },
  {
   "cell_type": "code",
   "execution_count": null,
   "metadata": {
    "execution": {
     "iopub.execute_input": "2022-01-11T08:52:24.540678Z",
     "iopub.status.busy": "2022-01-11T08:52:24.539819Z",
     "iopub.status.idle": "2022-01-11T08:52:24.557432Z",
     "shell.execute_reply": "2022-01-11T08:52:24.556009Z",
     "shell.execute_reply.started": "2022-01-11T08:52:24.540543Z"
    },
    "id": "WPIXvny8B4ct"
   },
   "outputs": [],
   "source": [
    "#feature importances\n",
    "importances = list(est.feature_importances_)\n",
    "#variable and importance\n",
    "feature_importances = [(feature, round(importance, 2)) for feature, importance in zip(feature_list, importances)]\n",
    "# Sort by most important first\n",
    "feature_importances = sorted(feature_importances, key = lambda x: x[1], reverse = True)\n",
    "# Print out the feature and importances \n",
    "[print('Variable: {:20} Importance: {}'.format(*pair)) for pair in feature_importances];"
   ]
  },
  {
   "cell_type": "markdown",
   "metadata": {
    "id": "jHJoK2Uhtrz5"
   },
   "source": [
    "According to the analysis and evaluation, it seems that the most important factor in estimating the model is distance."
   ]
  },
  {
   "cell_type": "markdown",
   "metadata": {
    "id": "_-z57a39trz5"
   },
   "source": [
    "* **Final Evaluation Stage**"
   ]
  },
  {
   "cell_type": "code",
   "execution_count": null,
   "metadata": {
    "execution": {
     "iopub.execute_input": "2022-01-11T08:52:24.560034Z",
     "iopub.status.busy": "2022-01-11T08:52:24.559310Z",
     "iopub.status.idle": "2022-01-11T08:52:24.574408Z",
     "shell.execute_reply": "2022-01-11T08:52:24.572988Z",
     "shell.execute_reply.started": "2022-01-11T08:52:24.559973Z"
    },
    "id": "b6ZNHoX6trz5"
   },
   "outputs": [],
   "source": [
    "def mae(predict, actual):\n",
    "    predict = np.array(predict)\n",
    "    actual = np.array(actual)\n",
    "\n",
    "    difference = abs(predict - actual)\n",
    "    score = difference.mean()\n",
    "\n",
    "    return score\n",
    "\n",
    "def mse(predict, actual):\n",
    "    predict = np.array(predict)\n",
    "    actual = np.array(actual)\n",
    "\n",
    "    difference = predict - actual\n",
    "    square_diff = np.square(difference)\n",
    "\n",
    "    score = square_diff.mean()\n",
    "    return score\n",
    "\n",
    "def mbe(y, y_predict):\n",
    "    errors = [y[i]-y_predict[i] for i in range(len(y))]\n",
    "    bias = sum(errors) * 1.0/len(y)\n",
    "    return bias\n",
    "\n",
    "\n",
    "def sd(y, y_predict):\n",
    "    mse= mean_squared_error(y, y_predict)\n",
    "    mbev=mbe(y, y_predict)\n",
    "    rsme=math.sqrt(mse)\n",
    "    sd=math.sqrt(((rsme*rsme)-(mbev*mbev)))\n",
    "    return sd\n",
    "\n",
    "def MAPE(actual, pred): \n",
    "    actual, pred = np.array(actual), np.array(pred)\n",
    "    return np.mean(np.abs((actual - pred) / actual)) * 100\n",
    "def eva(y, y_predict):\n",
    "    print(\"        \")\n",
    "    print(\"Mean Absolute Error : \")\n",
    "    print(mae(y, y_predict))\n",
    "    print(\"        \")\n",
    "    print(\"Root Mean Absolute Error : \")\n",
    "    print(math.sqrt((mae(y, y_predict))))\n",
    "    print(\"        \")\n",
    "    print(\"Mean Squared Error : \")\n",
    "    print(print(mse(y, y_predict)))\n",
    "    print(\"        \")\n",
    "    print(\"Root Mean Squared Error : \")\n",
    "    print(math.sqrt(mse(y, y_predict)))\n",
    "    print(\"        \")\n",
    "    print(\"Mean Bias Error : \")\n",
    "    print(mbe(y, y_predict))\n",
    "    print(\"        \")\n",
    "    print(\"Systematic    Error : \")\n",
    "    print(sd(y, y_predict))\n",
    "    print(\"        \")\n",
    "    print(\"MAPE : \")\n",
    "    print(MAPE(y, y_predict))"
   ]
  },
  {
   "cell_type": "code",
   "execution_count": null,
   "metadata": {
    "execution": {
     "iopub.execute_input": "2022-01-11T08:52:24.576572Z",
     "iopub.status.busy": "2022-01-11T08:52:24.575816Z",
     "iopub.status.idle": "2022-01-11T08:52:24.648311Z",
     "shell.execute_reply": "2022-01-11T08:52:24.647496Z",
     "shell.execute_reply.started": "2022-01-11T08:52:24.576088Z"
    },
    "id": "8Ab-pd2Vtrz6"
   },
   "outputs": [],
   "source": [
    "from sklearn.metrics import mean_squared_error, r2_score\n",
    "from sklearn.metrics import mean_absolute_error\n",
    "import math\n",
    "eva(test_labels,predictions)"
   ]
  },
  {
   "cell_type": "markdown",
   "metadata": {
    "id": "2r9Nzkhhtrz6"
   },
   "source": [
    "**Conclusion**\n",
    "\n",
    "Considering the various measurement and evaluation criteria on the experimental data set, it is concluded that the given trained model (Gradient Boosting Regressor) has the ability to make appropriate estimates. In this project, we intended to perform a detailed examination on the Uber data set. We reasonably design a model for estimating prices at different distances and weather conditions. Based on the results of the initial analysis and the final evaluation, it is concluded that the performance of the model is acceptable (Mean Absolute Error : 1.107435777607448, and Mean Bias Error : 0.011175742322951845)."
   ]
  }
 ],
 "metadata": {
  "colab": {
   "provenance": []
  },
  "kernelspec": {
   "display_name": "Python 3",
   "language": "python",
   "name": "python3"
  },
  "language_info": {
   "codemirror_mode": {
    "name": "ipython",
    "version": 3
   },
   "file_extension": ".py",
   "mimetype": "text/x-python",
   "name": "python",
   "nbconvert_exporter": "python",
   "pygments_lexer": "ipython3",
   "version": "3.8.3"
  }
 },
 "nbformat": 4,
 "nbformat_minor": 1
}
